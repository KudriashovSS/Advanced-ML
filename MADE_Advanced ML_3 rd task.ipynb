{
 "cells": [
  {
   "cell_type": "code",
   "execution_count": 161,
   "metadata": {},
   "outputs": [],
   "source": [
    "import re\n",
    "from collections import Counter\n",
    "import random"
   ]
  },
  {
   "cell_type": "markdown",
   "metadata": {},
   "source": [
    "### Advanced Machine Learning - Hometask 3"
   ]
  },
  {
   "cell_type": "markdown",
   "metadata": {},
   "source": [
    "#### 1. Base frequency algorithm (Sherlock Holmes method)\n",
    "#### Results:\n",
    "Initial Sentences:\n",
    "машинное обучение — класс методов искусственного интеллекта, характерной чертой которых является не прямое решение задачи, а обучение за счёт применения решений множества сходных задач. для построения таких методов используются средства математической статистики, численных методов, математического анализа, методов оптимизации, теории вероятностей, теории графов, различные техники работы с данными в цифровой форме.\n",
    "\n",
    "Coded Sentences:\n",
    "омбнййгч гхифчйнч — ъпмвв очтглгэ нвъиввтэчййгсг нйтчппчътм, ымщмътчщйгь фчщтгь ъгтгщшы дэпдчтвд йч ащдогч щчбчйнч змлмфн, м гхифчйнч зм вфет ащночйчйнд щчбчйнь ойгучвтэм выглйшы змлмф. лпд агвтщгчйнд тмъны очтглгэ нвагпюзиктвд вщчлвтэм омтчомтнфчвъгь втмтнвтнън, фнвпчййшы очтглгэ, омтчомтнфчвъгсг мймпнзм, очтглгэ гатнонзмрнн, тчгщнн эчщгдтйгвтчь, тчгщнн сщмёгэ, щмзпнфйшч тчыйнън щмхгтш в лмййшон э рнёщгэгь ёгщоч.\n",
    "\n",
    "Decoded Sentences:\n",
    "вижаттео ейзкотао щ дуисс вонемер асдзсснроттеше атноууодния ьилиднолтег колнег денелбь прупонсп то члпвео ложотао ыимикая и ейзкотао ыи скцн члавототап ложотаг втефоснри сьемтбь ыимикю муп чеснлеотап нидаь вонемер асчеу1ызeнсп сломснри виновинакосдег снинаснадая касуоттбь вонемеря виновинакосдеше итиуаыия вонемер ечнаваыиэаая ноелаа ролепнтесногя ноелаа шлихеря лиыуактбо ноьтада лийенб с миттбва р эахлерег хелвою\n",
    "\n",
    "Accuracy: 16.79%"
   ]
  },
  {
   "cell_type": "markdown",
   "metadata": {},
   "source": [
    "##### 2. Base frequency algorithm (Sherlock Holmes method) using bigramms\n",
    "#### Results:\n",
    "Initial Sentences:\n",
    "машинное обучение — класс методов искусственного интеллекта, характерной чертой которых является не прямое решение задачи, а обучение за счёт применения решений множества сходных задач. для построения таких методов используются средства математической статистики, численных методов, математического анализа, методов оптимизации, теории вероятностей, теории графов, различные техники работы с данными в цифровой форме.\n",
    "\n",
    "Coded Sentences:\n",
    "омбнййгч гхифчйнч — ъпмвв очтглгэ нвъиввтэчййгсг нйтчппчътм, ымщмътчщйгь фчщтгь ъгтгщшы дэпдчтвд йч ащдогч щчбчйнч змлмфн, м гхифчйнч зм вфет ащночйчйнд щчбчйнь ойгучвтэм выглйшы змлмф. лпд агвтщгчйнд тмъны очтглгэ нвагпюзиктвд вщчлвтэм омтчомтнфчвъгь втмтнвтнън, фнвпчййшы очтглгэ, омтчомтнфчвъгсг мймпнзм, очтглгэ гатнонзмрнн, тчгщнн эчщгдтйгвтчь, тчгщнн сщмёгэ, щмзпнфйшч тчыйнън щмхгтш в лмййшон э рнёщгэгь ёгщоч.\n",
    "\n",
    "Decoded Sentences:\n",
    "нкоиаабовбяитоаиовсвмркеевноебсбевиемиееееоаабшбвиаеорромекдвжкмкмеомабивтомебивмбебмсжвиериоееиваовнминбовмоооаиовдксктидвквбяитоаиовдкветсевнминоаоаиивмоооаиивнаброеееквежбсасжвдксктшвсривнбеембоаиивекмижвноебсбевиенбрздисееивемосеееквнкеонкеитоембивеекеиееимидвтиероаасжвноебсбедвнкеонкеитоембшбвкакридкдвноебсбевбнеинидкеиидвеобмиивеомбиеабееоидвеобмиившмкнбедвмкдритасовеожаимивмкябесвевскааснивевеинмбебивнбмнош\n",
    "\n",
    "Accuracy: 7.91%"
   ]
  },
  {
   "cell_type": "markdown",
   "metadata": {},
   "source": [
    "#### 3. Codes"
   ]
  },
  {
   "cell_type": "code",
   "execution_count": 151,
   "metadata": {},
   "outputs": [],
   "source": [
    "# Russian alphabet\n",
    "alphabet = \" абвгдеёжзийклмнопрстуфхцчшщъыьэюя\"\n",
    "# List of tokens\n",
    "lst_alphabet = list(alphabet)\n",
    "\n",
    "# Open Anna Karenina file and read text\n",
    "with open(\"AnnaKarenina.txt\", \"r\", encoding = 'utf8') as f:\n",
    "    text = f.readlines()\n",
    "\n",
    "# Join all sentences together\n",
    "joined_text = \" \".join(text)\n",
    "# Make text lower\n",
    "pure_text = re.sub(r\"\\W+\", \" \", joined_text.lower())\n",
    "# Count tokens using build in class Counter\n",
    "counts = Counter(pure_text)"
   ]
  },
  {
   "cell_type": "code",
   "execution_count": 152,
   "metadata": {},
   "outputs": [],
   "source": [
    "# Lets take two sentences from Wikipedia (machine learning article) as a train sample\n",
    "example = 'машинное обучение — класс методов искусственного интеллекта, характерной чертой которых является не прямое решение задачи, а обучение за счёт применения решений множества сходных задач. для построения таких методов используются средства математической статистики, численных методов, математического анализа, методов оптимизации, теории вероятностей, теории графов, различные техники работы с данными в цифровой форме.'\n",
    "initial_alph = list(lst_alphabet)\n",
    "# Randomize alphabet\n",
    "random.shuffle(lst_alphabet)\n",
    "# Encode our text with this random shuffling\n",
    "encoder = example.translate(str.maketrans(\"\".join(initial_alph), \"\".join(lst_alphabet)))\n",
    "# Count frequencies\n",
    "encoded_freqs = Counter(encoder)\n",
    "# Get our symbols in sorted dictionaries of initial Counter and encoded Counter \n",
    "enc_counts_sort, counts_sort = [i for i, _ in sorted(encoded_freqs.items(), key=lambda item: -item[1])], [i for i, _ in sorted(counts.items(), key=lambda item: -item[1])]\n",
    "# Decode our sentence by frequncy method\n",
    "decoder = encoder.translate(str.maketrans(\"\".join(enc_counts_sort), \"\".join(counts_sort[:len(enc_counts_sort)])))"
   ]
  },
  {
   "cell_type": "code",
   "execution_count": 153,
   "metadata": {},
   "outputs": [],
   "source": [
    "# Use as a base metrics - accuracy, (number of equal symbols divided by length of text)\n",
    "acc = sum([i==j for i, j in zip(example, decoder)])/len(example)"
   ]
  },
  {
   "cell_type": "code",
   "execution_count": 156,
   "metadata": {},
   "outputs": [],
   "source": [
    "# Get bigrams of our text (Anna Karenina) and encoded text\n",
    "bigrams, bigrams_enc = Counter(pure_text[idx : idx + 2] for idx in range(len(pure_text) - 1)), Counter(encoder[idx : idx + 2] for idx in range(len(encoder) - 1)) \n",
    "# Get our symbols in sorted dictionaries of initial bigrams and encoded bigrams \n",
    "enc_counts_sort, counts_sort = [i for i, _ in sorted(bigrams_enc.items(), key=lambda item: -item[1])], [i for i, _ in sorted(bigrams.items(), key=lambda item: -item[1])]\n",
    "# Decode our sentence by frequncy method\n",
    "decoder_bigrams = encoder.translate(str.maketrans(\"\".join(enc_counts_sort), \"\".join(counts_sort[:len(enc_counts_sort)])))"
   ]
  },
  {
   "cell_type": "code",
   "execution_count": 157,
   "metadata": {},
   "outputs": [],
   "source": [
    "acc = sum([i==j for i, j in zip(example, decoder_bigrams)])/len(example)"
   ]
  }
 ],
 "metadata": {
  "kernelspec": {
   "display_name": "Python 3",
   "language": "python",
   "name": "python3"
  },
  "language_info": {
   "codemirror_mode": {
    "name": "ipython",
    "version": 3
   },
   "file_extension": ".py",
   "mimetype": "text/x-python",
   "name": "python",
   "nbconvert_exporter": "python",
   "pygments_lexer": "ipython3",
   "version": "3.8.3"
  }
 },
 "nbformat": 4,
 "nbformat_minor": 4
}
