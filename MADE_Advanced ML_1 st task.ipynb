{
 "cells": [
  {
   "cell_type": "code",
   "execution_count": 1,
   "metadata": {},
   "outputs": [
    {
     "name": "stderr",
     "output_type": "stream",
     "text": [
      "C:\\Users\\DE118048\\Anaconda3\\lib\\site-packages\\sklearn\\utils\\deprecation.py:143: FutureWarning: The sklearn.utils.testing module is  deprecated in version 0.22 and will be removed in version 0.24. The corresponding classes / functions should instead be imported from sklearn.utils. Anything that cannot be imported from sklearn.utils is now part of the private API.\n",
      "  warnings.warn(message, FutureWarning)\n"
     ]
    }
   ],
   "source": [
    "import matplotlib as mpl\n",
    "import matplotlib.pyplot as plt\n",
    "import numpy as np\n",
    "from sklearn import linear_model\n",
    "import pandas as pd\n",
    "from datetime import datetime\n",
    "import scipy as sp\n",
    "import scipy.stats as st\n",
    "import scipy.integrate as integrate\n",
    "from sklearn import linear_model\n",
    "from scipy.stats import multivariate_normal\n",
    "from sklearn.utils.testing import ignore_warnings\n",
    "from sklearn.exceptions import ConvergenceWarning\n",
    "import statsmodels.api as sm\n",
    "import seaborn as sns\n",
    "from datetime import date\n",
    "sns.set_style(\"whitegrid\")\n",
    "sns.set_palette(\"colorblind\")\n",
    "palette = sns.color_palette()\n",
    "figsize = (15,8)\n",
    "legend_fontsize = 16\n",
    "\n",
    "from matplotlib import rc\n",
    "rc('font',**{'family':'sans-serif'})\n",
    "rc('figure', **{'dpi': 100})"
   ]
  },
  {
   "cell_type": "markdown",
   "metadata": {},
   "source": [
    "# 1. Bayesian Theorem"
   ]
  },
  {
   "cell_type": "markdown",
   "metadata": {},
   "source": [
    "## 1.1 Task"
   ]
  },
  {
   "cell_type": "markdown",
   "metadata": {},
   "source": [
    "$$\n",
    "P(I|E) = P(E|I)\\frac{P(I)}{P(E)}, where\n",
    "$$"
   ]
  },
  {
   "cell_type": "markdown",
   "metadata": {},
   "source": [
    "$ P(I) - \\mbox{probablity that man is innocent not depending on the test result} $ \\\n",
    "$ P(E) - \\mbox{prior probablity that test is observed} $ \\\n",
    "$ P(E|I) - \\mbox{probability that test is observed given that man is innocent (false positive result)} $\n",
    "$ P(I|E) - \\mbox{probability that man is innocent given despite the test is observed} $"
   ]
  },
  {
   "attachments": {},
   "cell_type": "markdown",
   "metadata": {},
   "source": [
    "$ \\mbox{We see that } P(E|I) \\mbox{ is small - that prosecitor evaluated. Prosecutor mistakes when tells that }  P(I|E) \\mbox{ is small - that prosecutor should evaluate.} $ \\\n",
    "$ \\mbox{In fact } P(E|I) \\mbox{ and} P(I|E) \\mbox{ are different from each other.} $ \\\n",
    "$ \\mbox{Equation above shows that small } P(E|I) \\mbox{ does not imply small } P(I|E) \\mbox{ in case of big value of } P(I) \\mbox{ and small value } P(E). $ \n",
    "$ \\mbox{I.E if in other case man can be innocent and hardly somebody presents observed evidence.} $"
   ]
  },
  {
   "cell_type": "markdown",
   "metadata": {},
   "source": [
    "## 1.2 Task"
   ]
  },
  {
   "cell_type": "markdown",
   "metadata": {},
   "source": [
    "$$\n",
    "P(G|E) = P(E|G)\\frac{P(G)}{P(E)}, where\n",
    "$$"
   ]
  },
  {
   "cell_type": "markdown",
   "metadata": {},
   "source": [
    "$ P(G) - \\mbox{probablity that man is guilty not depending on the test result} $ \\\n",
    "$ P(E) - \\mbox{prior probablity that test is observed} $ \\\n",
    "$ P(E|G) - \\mbox{probability that test is observed given that man is guilty} $ \\\n",
    "$ P(G|E) - \\mbox{probability that man is innocent given despite the test is observed} $"
   ]
  },
  {
   "cell_type": "markdown",
   "metadata": {},
   "source": [
    "$ \\mbox{The defender tries to evaluate} P(G|E). $ \\\n",
    "$ \\mbox{The defender evaluated P(G|E) given that we consider all people in the city are suspects}. $ \\\n",
    "$ \\mbox{In defender's calculation prior guilty probability is not correct. If for example police presents list of 10 suspects that had access} $ \n",
    "$ \\mbox{to crime place then it would not be logically to suppose that test that gives 1/1000000 on success would change prior probablity from 1/10 to 1/1000000.} $  "
   ]
  },
  {
   "cell_type": "markdown",
   "metadata": {},
   "source": [
    "## 1.3 Task"
   ]
  },
  {
   "cell_type": "code",
   "execution_count": 2,
   "metadata": {},
   "outputs": [],
   "source": [
    "def aposterior_positive_prob(false_positive, false_negative):\n",
    "\n",
    "    return  (1 - false_negative) * 0.01 / ((1 - false_negative) * 0.01 + false_positive * 0.99) \n",
    "\n",
    "def aposterior_negative_prob(false_positive, false_negative):\n",
    "\n",
    "    return false_negative * 0.01 / (false_negative * 0.01 + (1 - false_positive) * 0.99)"
   ]
  },
  {
   "cell_type": "code",
   "execution_count": 3,
   "metadata": {},
   "outputs": [
    {
     "ename": "NameError",
     "evalue": "name 'changing_fp' is not defined",
     "output_type": "error",
     "traceback": [
      "\u001b[1;31m---------------------------------------------------------------------------\u001b[0m",
      "\u001b[1;31mNameError\u001b[0m                                 Traceback (most recent call last)",
      "\u001b[1;32m<ipython-input-3-042df3f6238b>\u001b[0m in \u001b[0;36m<module>\u001b[1;34m\u001b[0m\n\u001b[0;32m      4\u001b[0m \u001b[0mplt\u001b[0m\u001b[1;33m.\u001b[0m\u001b[0mylabel\u001b[0m\u001b[1;33m(\u001b[0m\u001b[1;34m\"Aposterior probability: positive test\"\u001b[0m\u001b[1;33m)\u001b[0m\u001b[1;33m\u001b[0m\u001b[1;33m\u001b[0m\u001b[0m\n\u001b[0;32m      5\u001b[0m \u001b[0mplt\u001b[0m\u001b[1;33m.\u001b[0m\u001b[0mxlabel\u001b[0m\u001b[1;33m(\u001b[0m\u001b[1;34m\"False positive probability by given false negative\"\u001b[0m\u001b[1;33m)\u001b[0m\u001b[1;33m\u001b[0m\u001b[1;33m\u001b[0m\u001b[0m\n\u001b[1;32m----> 6\u001b[1;33m \u001b[0mplt\u001b[0m\u001b[1;33m.\u001b[0m\u001b[0mplot\u001b[0m\u001b[1;33m(\u001b[0m\u001b[0mx\u001b[0m\u001b[1;33m,\u001b[0m \u001b[0mchanging_fp\u001b[0m\u001b[1;33m(\u001b[0m\u001b[0mx\u001b[0m\u001b[1;33m)\u001b[0m\u001b[1;33m,\u001b[0m \u001b[0mlabel\u001b[0m\u001b[1;33m=\u001b[0m\u001b[1;34m\"False positive\"\u001b[0m\u001b[1;33m)\u001b[0m\u001b[1;33m\u001b[0m\u001b[1;33m\u001b[0m\u001b[0m\n\u001b[0m\u001b[0;32m      7\u001b[0m \u001b[0mplt\u001b[0m\u001b[1;33m.\u001b[0m\u001b[0mplot\u001b[0m\u001b[1;33m(\u001b[0m\u001b[0mx\u001b[0m\u001b[1;33m,\u001b[0m \u001b[0mchanging_fn\u001b[0m\u001b[1;33m(\u001b[0m\u001b[0mx\u001b[0m\u001b[1;33m)\u001b[0m\u001b[1;33m,\u001b[0m \u001b[0mlabel\u001b[0m\u001b[1;33m=\u001b[0m\u001b[1;34m\"False negative\"\u001b[0m\u001b[1;33m)\u001b[0m\u001b[1;33m\u001b[0m\u001b[1;33m\u001b[0m\u001b[0m\n\u001b[0;32m      8\u001b[0m \u001b[0mplt\u001b[0m\u001b[1;33m.\u001b[0m\u001b[0mlegend\u001b[0m\u001b[1;33m(\u001b[0m\u001b[1;33m)\u001b[0m\u001b[1;33m\u001b[0m\u001b[1;33m\u001b[0m\u001b[0m\n",
      "\u001b[1;31mNameError\u001b[0m: name 'changing_fp' is not defined"
     ]
    },
    {
     "data": {
      "image/png": "[encoded data removed]",
      "text/plain": [
       "<Figure size 600x400 with 1 Axes>"
      ]
     },
     "metadata": {},
     "output_type": "display_data"
    }
   ],
   "source": [
    "false_pos = lambda x: aposterior_positive_prob(false_positive=0.05, false_negative=x)\n",
    "false_neg = lambda x: aposterior_negative_prob(false_positive=x,    false_negative=0.05)\n",
    "x = np.linspace(0, 0.05, 1000)\n",
    "plt.ylabel(\"Aposterior probability: positive test\")\n",
    "plt.xlabel(\"False positive probability by given false negative\")\n",
    "plt.plot(x, changing_fp(x), label=\"False positive\")\n",
    "plt.plot(x, changing_fn(x), label=\"False negative\")\n",
    "plt.legend()\n",
    "plt.show()"
   ]
  },
  {
   "cell_type": "markdown",
   "metadata": {},
   "source": [
    "$ \\mbox{We can see that aposterior_positive_prob changes significantly with the growth of false_positive value} $ \\\n",
    "$ \\mbox{and vice versa  aposterior_negative_prob changes not much, so conclusion to concentrate on reducing false_positives} $"
   ]
  },
  {
   "cell_type": "markdown",
   "metadata": {},
   "source": [
    "# 2. Linear Regression"
   ]
  },
  {
   "cell_type": "markdown",
   "metadata": {},
   "source": [
    "### 2.1 Train Linear Model y ~ exp(linear function(x))"
   ]
  },
  {
   "cell_type": "markdown",
   "metadata": {},
   "source": [
    "### Total Cases"
   ]
  },
  {
   "cell_type": "code",
   "execution_count": null,
   "metadata": {},
   "outputs": [],
   "source": [
    "url = 'https://raw.githubusercontent.com/owid/covid-19-data/master/public/data/owid-covid-data.csv'\n",
    "df = pd.read_csv(url)"
   ]
  },
  {
   "cell_type": "code",
   "execution_count": null,
   "metadata": {},
   "outputs": [],
   "source": [
    "target = 'total_cases' \n",
    "#target = 'new_cases' "
   ]
  },
  {
   "cell_type": "code",
   "execution_count": null,
   "metadata": {},
   "outputs": [],
   "source": [
    "date_format = \"%Y-%m-%d\"\n",
    "df['date'] = pd.to_datetime(df['date'])\n",
    "df = df[df['date'] >= '2020-03-03']\n",
    "df.loc[df[\"new_cases\"] == 0, \"new_cases\"] = 1\n",
    "df = df.reset_index(drop=True)\n",
    "df['current_date'] = (df['date'] - df['date'].min()).dt.days + 1"
   ]
  },
  {
   "cell_type": "code",
   "execution_count": null,
   "metadata": {},
   "outputs": [],
   "source": [
    "russia = df[(df['location'] == 'Russia')].reset_index(drop=True)"
   ]
  },
  {
   "cell_type": "code",
   "execution_count": null,
   "metadata": {},
   "outputs": [],
   "source": [
    "train = df[(df['location'] == 'Russia') & (df['current_date'] <= 50)].reset_index(drop=True)\n",
    "test = df[(df['location'] == 'Russia') & (df['current_date'] > 50)].reset_index(drop=True)"
   ]
  },
  {
   "cell_type": "code",
   "execution_count": null,
   "metadata": {},
   "outputs": [],
   "source": [
    "plt.figure(figsize=(20,8))\n",
    "plt.plot(train['date'], train['total_cases'], label='Total Cases')\n",
    "plt.plot(train['date'], train['new_cases'], label='New Cases')\n",
    "plt.title('Total cases and New Cases')\n",
    "plt.xlabel('Date')\n",
    "plt.ylabel(target)\n",
    "plt.show()"
   ]
  },
  {
   "cell_type": "code",
   "execution_count": null,
   "metadata": {},
   "outputs": [],
   "source": [
    "regr = linear_model.LinearRegression()\n",
    "X = train['current_date'].values.reshape(-1, 1)\n",
    "ln_Y = np.log(train[target]).values.reshape(-1, 1)\n",
    "regr.fit(X,ln_Y)\n",
    "train['predicted'] = train['current_date'] * float(regr.coef_) + float(regr.intercept_)"
   ]
  },
  {
   "cell_type": "markdown",
   "metadata": {},
   "source": [
    "### 2.2 Aposterior Distribution"
   ]
  },
  {
   "cell_type": "code",
   "execution_count": null,
   "metadata": {},
   "outputs": [],
   "source": [
    "sigma_noise = np.std(train['predicted'] - np.log(train[target]))"
   ]
  },
  {
   "cell_type": "code",
   "execution_count": null,
   "metadata": {},
   "outputs": [],
   "source": [
    "def bayesian_update(mu, sigma, x, y, sigma_noise=sigma_noise):\n",
    "    x_matrix = np.array([[1, *x]])\n",
    "    sigma_n = np.linalg.inv(np.linalg.inv(sigma)+ (1 / (sigma_noise ** 2)) * np.matmul(np.transpose(x_matrix), x_matrix) )\n",
    "    mu_n = np.matmul(sigma_n, np.matmul(np.linalg.inv(sigma), np.transpose(mu)) + (1 / (sigma_noise ** 2)) * np.matmul(np.transpose(x_matrix), np.array([y]) ) )\n",
    "    return mu_n, sigma_n"
   ]
  },
  {
   "cell_type": "code",
   "execution_count": null,
   "metadata": {},
   "outputs": [],
   "source": [
    "N = 250\n",
    "cur_mu, cur_sigma = np.array([0, 0]), 10 * np.array([[1, 0], [0, 1]])\n",
    "\n",
    "for i in range(50):\n",
    "    px, py = i + 1, np.log(np.array(train[target][i]))\n",
    "    cur_mu, cur_sigma = bayesian_update(cur_mu, cur_sigma, px, py)\n",
    "\n",
    "X = np.linspace(*plot_lims[0], N)\n",
    "Y = np.linspace(*plot_lims[1], N)\n",
    "X, Y = np.meshgrid(X, Y)\n",
    "pos = np.empty(X.shape + (2,))\n",
    "pos[:, :, 0] = X\n",
    "pos[:, :, 1] = Y\n",
    "\n",
    "Z = multivariate_normal.pdf(pos, mean=cur_mu, cov=cur_sigma)\n",
    "\n",
    "plt.figure(figsize=(8, 8))\n",
    "plt.pcolormesh(X, Y, Z, cmap=plt.cm.jet)\n",
    "plt.title('Aposterior Distribution: ' + target)\n",
    "plt.xlabel('Intercept')\n",
    "plt.ylabel('Slope')\n",
    "plt.show()"
   ]
  },
  {
   "cell_type": "code",
   "execution_count": null,
   "metadata": {},
   "outputs": [],
   "source": [
    "print('Aposterior Distribution: ', cur_mu)"
   ]
  },
  {
   "cell_type": "markdown",
   "metadata": {},
   "source": [
    "### 2.3 Sample exp: Predicitions on 1st May, 1st June, 1st September"
   ]
  },
  {
   "cell_type": "code",
   "execution_count": null,
   "metadata": {},
   "outputs": [],
   "source": [
    "def myplot_sample_lines(mu, sigma, xs=np.arange(0, 100), n=200, points=None):\n",
    "    # Посэмплируем и порисуем прямые\n",
    "    my_w = np.random.multivariate_normal(mu, sigma, n)\n",
    "    for w in my_w:\n",
    "        plt.plot(xs, np.exp(w[0] + w[1]*xs), 'k-', lw=.4)\n",
    "    if not points is None:\n",
    "        plt.scatter(points[0], points[1], marker='*', s=200)"
   ]
  },
  {
   "cell_type": "code",
   "execution_count": null,
   "metadata": {},
   "outputs": [],
   "source": [
    "fig = plt.figure(figsize=(20, 8))\n",
    "ax = fig.add_subplot(111)\n",
    "plt.xlabel(\"current date\", fontsize=25)\n",
    "plt.ylabel(\"total cases\", fontsize=25)\n",
    "myplot_sample_lines(cur_mu, cur_sigma, n=50, points=[train['current_date'].values, train['total_cases'].values])"
   ]
  },
  {
   "cell_type": "code",
   "execution_count": null,
   "metadata": {},
   "outputs": [],
   "source": [
    "# Draw result\n",
    "def plot_predictions(xs, mu, x, train_points, test_points):\n",
    "    fig = plt.figure(figsize=figsize)\n",
    "    ax = fig.add_subplot(111)\n",
    "    plt.xlabel('current_date', fontsize=15)\n",
    "    plt.ylabel(target, fontsize=15)\n",
    "    ax.set_xlim((xs[0], xs[-1]))\n",
    "    ax.plot(xs, np.exp(mu[1]*xs + mu[0]), color=\"red\", label=\"MAP гипотеза\")\n",
    "    ax.fill_between(xs, np.mean(x, axis=0) - np.std(x, axis=0), np.mean(x, axis=0) + np.std(x, axis=0), color=palette[5], alpha=.2, label=\"+- дисперсия предсказаний\")\n",
    "    ax.scatter(train_points[0], train_points[1], marker='*', color=\"blue\", s=100, label=\"Train\")\n",
    "    ax.scatter(test_points[0], test_points[1], marker='*', color=\"black\", s=100, label=\"Test\")\n",
    "    ax.legend(fontsize=legend_fontsize)"
   ]
  },
  {
   "cell_type": "code",
   "execution_count": null,
   "metadata": {},
   "outputs": [],
   "source": [
    "# Sample lines and give statistics on predictions\n",
    "def sample_statistics(mu, sigma, xs, n=20):\n",
    "    my_w = np.random.multivariate_normal(mu, sigma, n)\n",
    "    res = np.zeros((n, xs.shape[0]))\n",
    "    for i,w in enumerate(my_w):\n",
    "        res[i,:] = np.exp(w[0] + w[1]*xs)\n",
    "    return res"
   ]
  },
  {
   "cell_type": "code",
   "execution_count": null,
   "metadata": {},
   "outputs": [],
   "source": [
    "xs = np.arange(0, 100)\n",
    "x = sample_statistics(cur_mu, cur_sigma, xs, n=200)\n",
    "plot_predictions(xs, cur_mu, x, [train['current_date'].values, train[target].values], [test['current_date'].values, test[target].values])"
   ]
  },
  {
   "cell_type": "code",
   "execution_count": null,
   "metadata": {},
   "outputs": [],
   "source": [
    "def myplot_sample_lines(mu, sigma, xs=np.arange(0, 70), n=200, points=None):\n",
    "    my_w = np.random.multivariate_normal(mu, sigma, n)\n",
    "    res = np.zeros((n, xs.shape[0]))\n",
    "    for i,w in enumerate(my_w):\n",
    "        y = np.exp(w[0] + w[1]*xs)\n",
    "        plt.plot(xs, y, 'k-', lw=.4, alpha=0.3)\n",
    "        res[i,:] = y\n",
    "    if not points is None:\n",
    "        plt.scatter(points[0], points[1], marker='*', s=200)\n",
    "    return res[:,-1]"
   ]
  },
  {
   "cell_type": "code",
   "execution_count": null,
   "metadata": {},
   "outputs": [],
   "source": [
    "may = myplot_sample_lines(cur_mu, cur_sigma, xs=np.arange(1, (date(2020,5,1) - date(2020,3,3)).days + 1), n=1000, points=[train['current_date'].values, train[target].values])\n",
    "plt.title(\"1st May\")\n",
    "plt.xlabel(\"current day\")\n",
    "plt.ylabel(target)\n",
    "plt.show()\n",
    "june = myplot_sample_lines(cur_mu, cur_sigma, xs=np.arange(1, (date(2020,6,1) - date(2020,3,3)).days + 1), n=1000, points=[train['current_date'].values, train[target].values])\n",
    "plt.title(\"1st June\")\n",
    "plt.xlabel(\"current day\")\n",
    "plt.ylabel(target)\n",
    "plt.show()\n",
    "september = myplot_sample_lines(cur_mu, cur_sigma, xs=np.arange(1, (date(2020,9,1) - date(2020,3,3)).days + 1), n=1000, points=[train['current_date'].values, train[target].values])\n",
    "plt.title(\"1st September\")\n",
    "plt.xlabel(\"current day\")\n",
    "plt.ylabel(target)\n",
    "plt.show()"
   ]
  },
  {
   "cell_type": "code",
   "execution_count": null,
   "metadata": {},
   "outputs": [],
   "source": [
    "plt.hist(may, bins=100)\n",
    "plt.title('1st May Distribution')\n",
    "plt.show()\n",
    "plt.hist(june, bins=100)\n",
    "plt.title('1st June Distribution')\n",
    "plt.show()\n",
    "plt.hist(september, bins=100)\n",
    "plt.title('1st September Distribution')\n",
    "plt.show()"
   ]
  },
  {
   "cell_type": "code",
   "execution_count": null,
   "metadata": {},
   "outputs": [],
   "source": [
    "print(f\" Average number of total cases on the 1st of May is {may.mean()}\")\n",
    "print(f\" Average number of total cases on the 1st of June is {june.mean()}\")\n",
    "print(f\" Average number of total cases on the 1st of September is {september.mean()}\")"
   ]
  },
  {
   "cell_type": "markdown",
   "metadata": {},
   "source": [
    "# 3. Linear Regression: second step polynom "
   ]
  },
  {
   "cell_type": "markdown",
   "metadata": {},
   "source": [
    "### 3.1 Approach for training"
   ]
  },
  {
   "cell_type": "markdown",
   "metadata": {},
   "source": [
    "$ \\mbox{ 1. The derivative from distibution function is density distribution function } $ \\\n",
    "$ \\mbox{ 2. Target total cases is cumulative function from target new cases } $ \\\n",
    "$ \\mbox{ 3. Take logarithm from density function,  this will give us polynom of second step: } ax^2 + bx + c $ \\\n",
    "$ \\mbox{ 4. So in that case we can train our model with sigmoid where target would be cumulative function of new cases  } \\ $"
   ]
  },
  {
   "cell_type": "markdown",
   "metadata": {},
   "source": [
    "### 2.2 Aposterior Distribution"
   ]
  },
  {
   "cell_type": "code",
   "execution_count": null,
   "metadata": {},
   "outputs": [],
   "source": [
    "target = 'new_cases'"
   ]
  },
  {
   "cell_type": "code",
   "execution_count": null,
   "metadata": {},
   "outputs": [],
   "source": [
    "regr = linear_model.LinearRegression()\n",
    "X = train['current_date']\n",
    "X = np.array(list(zip(X, X**2)))\n",
    "ln_Y = np.log(train[target]).values.reshape(-1, 1)\n",
    "regr.fit(X,ln_Y)"
   ]
  },
  {
   "cell_type": "code",
   "execution_count": null,
   "metadata": {},
   "outputs": [],
   "source": [
    "train['predicted'] = train['current_date'] * float(regr.coef_[:,0]) + (train['current_date'] ** 2) * float(regr.coef_[:,1]) + float(regr.intercept_)\n",
    "train['cumulative_predicted'] = np.cumsum(train['predicted'])"
   ]
  },
  {
   "cell_type": "code",
   "execution_count": null,
   "metadata": {},
   "outputs": [],
   "source": [
    "sigma_noise = np.std(train['predicted'] - np.log(train[target]))"
   ]
  },
  {
   "cell_type": "code",
   "execution_count": null,
   "metadata": {},
   "outputs": [],
   "source": [
    "cur_mu, cur_sigma = np.array([0, 0, 0]), 10 * np.array([[1, 0, 0], [0, 1, 0], [0, 0, 1]])\n",
    "\n",
    "for i in range(50):\n",
    "    px, py = X[i], np.log(np.array(train[target][i]))\n",
    "    cur_mu, cur_sigma = bayesian_update(cur_mu, cur_sigma, px, py)"
   ]
  },
  {
   "cell_type": "code",
   "execution_count": null,
   "metadata": {},
   "outputs": [],
   "source": [
    "print('Aposterior Distribution: ', cur_mu)"
   ]
  },
  {
   "cell_type": "code",
   "execution_count": null,
   "metadata": {},
   "outputs": [],
   "source": [
    "def plot_predictions(xs, mu, sigma, n, train_points, test_points):\n",
    "    fig = plt.figure(figsize=figsize)\n",
    "    ax = fig.add_subplot(111)\n",
    "    ax.set_xlim((xs[0], xs[-1]))\n",
    "    ax.set_ylim((0, 5e6))\n",
    "    my_w = np.random.multivariate_normal(mu, sigma, n)\n",
    "    res = np.zeros((n, xs.shape[0]))\n",
    "    for i,w in enumerate(my_w):\n",
    "        y = np.cumsum(np.exp(w[0] + w[1]*xs + w[2]*xs**2))\n",
    "        ax.plot(xs, y, 'k-', lw=.4, alpha=0.3)\n",
    "        res[i,:] = y\n",
    "    ax.plot(xs, np.cumsum(np.exp(mu[2]*(xs**2) + mu[1]*xs + mu[0])), color=\"red\", label=\"MAP гипотеза\")\n",
    "    ax.fill_between(xs, np.mean(res, axis=0) - np.std(res, axis=0), np.mean(res, axis=0) + np.std(res, axis=0), color=palette[5], alpha=.2, label=\"+- дисперсия предсказаний\")\n",
    "    ax.scatter(train_points[0], train_points[1], marker='*', color=\"blue\", s=100, label=\"train data\")\n",
    "    ax.scatter(test_points[0], test_points[1], marker='*', color=\"green\", s=100, label=\"test data\")\n",
    "    ax.legend(fontsize=legend_fontsize)\n",
    "    return res[:,-1]\n",
    "\n",
    "num_days = 350\n",
    "xs = np.arange(0, num_days)\n",
    "x_train = np.arange(0, train_size)\n",
    "dist = plot_predictions(xs, cur_mu, cur_sigma, n=1000, train_points=[x_train, df_train[\"total_cases\"].values], test_points=[x_test[:num_days - 50], df_test[\"total_cases\"].values[:num_days - 50]])"
   ]
  },
  {
   "cell_type": "code",
   "execution_count": null,
   "metadata": {},
   "outputs": [],
   "source": []
  }
 ],
 "metadata": {
  "kernelspec": {
   "display_name": "Python 3",
   "language": "python",
   "name": "python3"
  },
  "language_info": {
   "codemirror_mode": {
    "name": "ipython",
    "version": 3
   },
   "file_extension": ".py",
   "mimetype": "text/x-python",
   "name": "python",
   "nbconvert_exporter": "python",
   "pygments_lexer": "ipython3",
   "version": "3.8.3"
  }
 },
 "nbformat": 4,
 "nbformat_minor": 4
}
